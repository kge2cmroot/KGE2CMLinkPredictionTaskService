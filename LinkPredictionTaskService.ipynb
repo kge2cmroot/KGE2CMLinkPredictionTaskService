{
  "nbformat": 4,
  "nbformat_minor": 0,
  "metadata": {
    "colab": {
      "provenance": []
    },
    "kernelspec": {
      "name": "python3",
      "display_name": "Python 3"
    },
    "language_info": {
      "name": "python"
    }
  },
  "cells": [
    {
      "cell_type": "code",
      "execution_count": null,
      "metadata": {
        "id": "8b0nubn8QiyI"
      },
      "outputs": [],
      "source": [
        "!sudo update-alternatives --config python3 "
      ]
    },
    {
      "cell_type": "code",
      "source": [
        "%%capture\n",
        "!sudo apt-get install python3-pip\n",
        "!python -m pip install --upgrade pip\n",
        "!pip install \"tensorflow>=1.15.2,<2.0\"\n",
        "!pip install ampligraph\n",
        "!pip install pyngrok\n",
        "!pip install flask"
      ],
      "metadata": {
        "id": "DmnHfsgOQt6T"
      },
      "execution_count": 3,
      "outputs": []
    },
    {
      "cell_type": "code",
      "source": [
        "!python linkpredictiontask.py"
      ],
      "metadata": {
        "id": "bf1etfiMSBsL"
      },
      "execution_count": null,
      "outputs": []
    }
  ]
}